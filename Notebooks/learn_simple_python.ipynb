{
 "cells": [
  {
   "cell_type": "code",
   "execution_count": 1,
   "metadata": {},
   "outputs": [
    {
     "data": {
      "text/plain": [
       "4"
      ]
     },
     "execution_count": 1,
     "metadata": {},
     "output_type": "execute_result"
    }
   ],
   "source": [
    "2+2"
   ]
  },
  {
   "cell_type": "code",
   "execution_count": 2,
   "metadata": {},
   "outputs": [
    {
     "data": {
      "text/plain": [
       "0"
      ]
     },
     "execution_count": 2,
     "metadata": {},
     "output_type": "execute_result"
    }
   ],
   "source": [
    "2-2"
   ]
  },
  {
   "cell_type": "code",
   "execution_count": 3,
   "metadata": {},
   "outputs": [
    {
     "name": "stdout",
     "output_type": "stream",
     "text": [
      "Привет мир!\n"
     ]
    }
   ],
   "source": [
    "print(\"Привет мир!\")"
   ]
  },
  {
   "cell_type": "code",
   "execution_count": 5,
   "metadata": {},
   "outputs": [
    {
     "name": "stdout",
     "output_type": "stream",
     "text": [
      "Суммарное количество слонов в Африке: 268\n"
     ]
    }
   ],
   "source": [
    "count_elephant_1 = 34\n",
    "count_elephant_2 = 234\n",
    "\n",
    "print(\"Суммарное количество слонов в Африке: \" + str(count_elephant_1 + count_elephant_2))"
   ]
  },
  {
   "cell_type": "code",
   "execution_count": 9,
   "metadata": {},
   "outputs": [
    {
     "name": "stdout",
     "output_type": "stream",
     "text": [
      "ДЕСЯТЬОДИННАДЦАТЬ\n"
     ]
    }
   ],
   "source": [
    "var = \"ДЕСЯТЬ\"\n",
    "var2 = \"ОДИННАДЦАТЬ\"\n",
    "\n",
    "var3 = 12\n",
    "\n",
    "print(var + var2)"
   ]
  },
  {
   "cell_type": "code",
   "execution_count": 17,
   "metadata": {},
   "outputs": [],
   "source": [
    "count_elephant_1 = 34\n",
    "count_elephant_2 = 234\n",
    "\n",
    "zasuha_in_Afrika = False\n",
    "\n",
    "sum_elephant = count_elephant_1 + count_elephant_2\n",
    "\n",
    "if sum_elephant < 260 and zasuha_in_Afrika == False:\n",
    "    print(\"Нужно сделать новых слонов\")"
   ]
  },
  {
   "cell_type": "code",
   "execution_count": null,
   "metadata": {},
   "outputs": [],
   "source": [
    "# NO(1, 2); YES(11, 2); YES(1, 12); YES(11, 12); NO(–11, –12); YES(–11, 12); YES(–12, 11); NO(10, 10); NO(10, 5).\n",
    "# Сколько было запусков, при которых программа напечатала «YES»?\n",
    "\n",
    "s = int(input())\n",
    "t = int(input())\n",
    "\n",
    "if s > 10 or t > 10:\n",
    "    print(\"YES\")\n",
    "else:\n",
    "    print(\"NO\")\n",
    "\n",
    "\n",
    "# Ответ 5"
   ]
  },
  {
   "cell_type": "code",
   "execution_count": null,
   "metadata": {},
   "outputs": [],
   "source": [
    "# Было проведено 9 запусков программы, при которых в качестве значений переменных s и t вводились следующие пары чисел:\n",
    "\n",
    "# YES(7, 3); NO(2, 7); NO(6, 10); NO(5, 3); NO(5, 4); NO(–11, 4); NO(–8, 9); YES(7, 3); YES(9, 1).\n",
    "\n",
    "#Сколько было запусков, при которых программа напечатала «YES»?\n",
    "\n",
    "\n",
    "\n",
    "s = int(input())\n",
    "t = int(input())\n",
    "if s > 6 and t < 7:\n",
    "    print(\"YES\")\n",
    "else:\n",
    "    print(\"NO\")\n"
   ]
  },
  {
   "cell_type": "code",
   "execution_count": null,
   "metadata": {},
   "outputs": [],
   "source": [
    "# Было проведено 9 запусков программы, при которых в качестве значений переменных s и t вводились следующие пары чисел:\n",
    "\n",
    "# NO(1, 2); YES(11, 2); (1, 12); YES(11, 12); NO(−11, −12); (−11, 12); (−12, 11); (10, 10); NO(10,  5).\n",
    "\n",
    "# Укажите количество целых значений параметра A, при которых для указанных входных данных программа напечатает «NO» три раза.\n",
    "\n",
    "s = int(input())\n",
    "t = int(input())\n",
    "A = int(input())\n",
    "\n",
    "A = [5,9]\n",
    "5,6,7,8,9\n",
    "\n",
    "if (s <= 10) and (t <= A):\n",
    "    print(\"NO\")\n",
    "else:\n",
    "    print(\"YES\")\n",
    "\n",
    "\n",
    "# Ответ 5\n"
   ]
  },
  {
   "cell_type": "code",
   "execution_count": null,
   "metadata": {},
   "outputs": [],
   "source": [
    "# (13, 2); (11, 12); (–12, 12); (2, –2); (–10, –10); (6, –5); (2, 8); (9, 10); YES(1, 13).\n",
    "\n",
    "# Укажите наименьшее целое значение параметра A, при котором для указанных входных данных программа напечатает «NO» восемь раз.\n",
    "\n",
    "\n",
    "\n",
    "s = int(input())\n",
    "t = int(input())\n",
    "A = int(input())\n",
    "\n",
    "\n",
    "if (s <= A) and (t <= 12):\n",
    "    print(\"NO\")\n",
    "else:\n",
    "    print(\"YES\")\n",
    "\n",
    "# Ответ 13"
   ]
  },
  {
   "cell_type": "code",
   "execution_count": null,
   "metadata": {},
   "outputs": [],
   "source": [
    "# НЕТ(1, 1); ДА(8, 4); НЕТ(14, 10); НЕТ(20, 1); ДА(7, 3); ДА(10, 5); НЕТ(10, 2); НЕТ(4, 1); ДА(1, 0).\n",
    "\n",
    "# Сколько было запусков, при которых программа напечатала «ДА»?\n",
    "\n",
    "s = int(input())\n",
    "k = int(input())\n",
    "\n",
    "# 7 / 2 = 3.5\n",
    "\n",
    "if  s // 2 == k:\n",
    "    print(\"ДА\")\n",
    "else:\n",
    "    print(\"НЕТ\")\n"
   ]
  },
  {
   "cell_type": "code",
   "execution_count": null,
   "metadata": {},
   "outputs": [],
   "source": [
    "# НЕТ(1, 2); ДА(8, 4); ДА(6, −12); ДА(−5, −5); НЕТ(3, 11); НЕТ(—10, 12); НЕТ(—10, −2); ДА(4, 1); НЕТ(2, 5).\n",
    "\n",
    "# Сколько было запусков, при которых программа напечатала «ДА»?\n",
    "\n",
    "\n",
    "\n",
    "s = int(input())\n",
    "k = int(input())\n",
    "if  s >= 2 * k:\n",
    "    print(\"ДА\")\n",
    "else:\n",
    "    print(\"НЕТ\")\n"
   ]
  }
 ],
 "metadata": {
  "kernelspec": {
   "display_name": "Python 3",
   "language": "python",
   "name": "python3"
  },
  "language_info": {
   "codemirror_mode": {
    "name": "ipython",
    "version": 3
   },
   "file_extension": ".py",
   "mimetype": "text/x-python",
   "name": "python",
   "nbconvert_exporter": "python",
   "pygments_lexer": "ipython3",
   "version": "3.10.6"
  }
 },
 "nbformat": 4,
 "nbformat_minor": 2
}
