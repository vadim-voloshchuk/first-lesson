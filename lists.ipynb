{
 "cells": [
  {
   "cell_type": "markdown",
   "metadata": {},
   "source": [
    "Что такое массив (список)?\n",
    "Массив (или список) — это упорядоченная коллекция элементов, например, чисел, строк или других объектов. В Python списки создаются с помощью квадратных скобок []."
   ]
  },
  {
   "cell_type": "code",
   "execution_count": 37,
   "metadata": {},
   "outputs": [],
   "source": [
    "list = []\n",
    "\n",
    "list_with_nums = [1,2,3,4,5]\n",
    "\n",
    "list_with_strings = [\"one\", \"two\", \"three\"]"
   ]
  },
  {
   "cell_type": "code",
   "execution_count": 4,
   "metadata": {},
   "outputs": [
    {
     "data": {
      "text/plain": [
       "2"
      ]
     },
     "execution_count": 4,
     "metadata": {},
     "output_type": "execute_result"
    }
   ],
   "source": [
    "list_with_nums[1]"
   ]
  },
  {
   "cell_type": "code",
   "execution_count": 5,
   "metadata": {},
   "outputs": [
    {
     "data": {
      "text/plain": [
       "'two'"
      ]
     },
     "execution_count": 5,
     "metadata": {},
     "output_type": "execute_result"
    }
   ],
   "source": [
    "list_with_strings[1]"
   ]
  },
  {
   "cell_type": "code",
   "execution_count": 6,
   "metadata": {},
   "outputs": [
    {
     "data": {
      "text/plain": [
       "['one', 'two', 'three']"
      ]
     },
     "execution_count": 6,
     "metadata": {},
     "output_type": "execute_result"
    }
   ],
   "source": [
    "list_with_strings"
   ]
  },
  {
   "cell_type": "code",
   "execution_count": 7,
   "metadata": {},
   "outputs": [],
   "source": [
    "list_with_strings[1] = \"dva\""
   ]
  },
  {
   "cell_type": "code",
   "execution_count": 8,
   "metadata": {},
   "outputs": [
    {
     "data": {
      "text/plain": [
       "['one', 'dva', 'three']"
      ]
     },
     "execution_count": 8,
     "metadata": {},
     "output_type": "execute_result"
    }
   ],
   "source": [
    "list_with_strings"
   ]
  },
  {
   "cell_type": "code",
   "execution_count": 13,
   "metadata": {},
   "outputs": [],
   "source": [
    "test_string = \"Hello world\"\n",
    "\n",
    "test_string = \"Hellsfdsfsfso world\""
   ]
  },
  {
   "cell_type": "code",
   "execution_count": 19,
   "metadata": {},
   "outputs": [],
   "source": [
    "list_with_nums\n",
    "\n",
    "list_with_nums.append(6)"
   ]
  },
  {
   "cell_type": "code",
   "execution_count": 20,
   "metadata": {},
   "outputs": [
    {
     "data": {
      "text/plain": [
       "[1, 2, 3, 4, 5, 6, 6, 6]"
      ]
     },
     "execution_count": 20,
     "metadata": {},
     "output_type": "execute_result"
    }
   ],
   "source": [
    "list_with_nums"
   ]
  },
  {
   "cell_type": "code",
   "execution_count": 21,
   "metadata": {},
   "outputs": [],
   "source": [
    "list_with_nums.remove(2)"
   ]
  },
  {
   "cell_type": "code",
   "execution_count": 35,
   "metadata": {},
   "outputs": [
    {
     "data": {
      "text/plain": [
       "[3, 4]"
      ]
     },
     "execution_count": 35,
     "metadata": {},
     "output_type": "execute_result"
    }
   ],
   "source": [
    "list_with_nums.remove(1)\n",
    "\n",
    "list_with_nums"
   ]
  },
  {
   "cell_type": "code",
   "execution_count": 27,
   "metadata": {},
   "outputs": [
    {
     "data": {
      "text/plain": [
       "[1, 3, 4, 5]"
      ]
     },
     "execution_count": 27,
     "metadata": {},
     "output_type": "execute_result"
    }
   ],
   "source": [
    "list_with_nums"
   ]
  },
  {
   "cell_type": "code",
   "execution_count": 40,
   "metadata": {},
   "outputs": [
    {
     "data": {
      "text/plain": [
       "5"
      ]
     },
     "execution_count": 40,
     "metadata": {},
     "output_type": "execute_result"
    }
   ],
   "source": [
    "list_with_nums.pop()"
   ]
  },
  {
   "cell_type": "code",
   "execution_count": 29,
   "metadata": {},
   "outputs": [
    {
     "data": {
      "text/plain": [
       "[1, 3, 4]"
      ]
     },
     "execution_count": 29,
     "metadata": {},
     "output_type": "execute_result"
    }
   ],
   "source": [
    "list_with_nums"
   ]
  },
  {
   "cell_type": "code",
   "execution_count": 31,
   "metadata": {},
   "outputs": [
    {
     "data": {
      "text/plain": [
       "True"
      ]
     },
     "execution_count": 31,
     "metadata": {},
     "output_type": "execute_result"
    }
   ],
   "source": [
    "1 in list_with_nums"
   ]
  },
  {
   "cell_type": "code",
   "execution_count": 36,
   "metadata": {},
   "outputs": [
    {
     "name": "stdout",
     "output_type": "stream",
     "text": [
      "Нет\n"
     ]
    }
   ],
   "source": [
    "if 1 in list_with_nums:\n",
    "    print(\"Единица в списке\")\n",
    "else:\n",
    "    print(\"Нет\")"
   ]
  },
  {
   "cell_type": "code",
   "execution_count": 38,
   "metadata": {},
   "outputs": [
    {
     "name": "stdout",
     "output_type": "stream",
     "text": [
      "1\n",
      "2\n",
      "3\n",
      "4\n",
      "5\n"
     ]
    }
   ],
   "source": [
    "for chislo in list_with_nums:\n",
    "    print(chislo)"
   ]
  },
  {
   "cell_type": "code",
   "execution_count": 41,
   "metadata": {},
   "outputs": [
    {
     "data": {
      "text/plain": [
       "4"
      ]
     },
     "execution_count": 41,
     "metadata": {},
     "output_type": "execute_result"
    }
   ],
   "source": [
    "len(list_with_nums)"
   ]
  },
  {
   "cell_type": "code",
   "execution_count": 42,
   "metadata": {},
   "outputs": [
    {
     "data": {
      "text/plain": [
       "[1, 2, 3, 4]"
      ]
     },
     "execution_count": 42,
     "metadata": {},
     "output_type": "execute_result"
    }
   ],
   "source": [
    "list_with_nums"
   ]
  },
  {
   "cell_type": "code",
   "execution_count": 43,
   "metadata": {},
   "outputs": [
    {
     "data": {
      "text/plain": [
       "[1, 2, 3, 4, 5, 3, 2, 4]"
      ]
     },
     "execution_count": 43,
     "metadata": {},
     "output_type": "execute_result"
    }
   ],
   "source": [
    "list_with_nums + [5,3,2,4]"
   ]
  },
  {
   "cell_type": "code",
   "execution_count": 44,
   "metadata": {},
   "outputs": [],
   "source": [
    "sentense = \"Я иду по красивой улице\""
   ]
  },
  {
   "cell_type": "code",
   "execution_count": 48,
   "metadata": {},
   "outputs": [
    {
     "data": {
      "text/plain": [
       "'е'"
      ]
     },
     "execution_count": 48,
     "metadata": {},
     "output_type": "execute_result"
    }
   ],
   "source": [
    "sentense[-1]"
   ]
  },
  {
   "cell_type": "code",
   "execution_count": 59,
   "metadata": {},
   "outputs": [
    {
     "data": {
      "text/plain": [
       "'Я '"
      ]
     },
     "execution_count": 59,
     "metadata": {},
     "output_type": "execute_result"
    }
   ],
   "source": [
    "sentense[:2]"
   ]
  },
  {
   "cell_type": "code",
   "execution_count": 60,
   "metadata": {},
   "outputs": [
    {
     "data": {
      "text/plain": [
       "'Я иду по красивой улице'"
      ]
     },
     "execution_count": 60,
     "metadata": {},
     "output_type": "execute_result"
    }
   ],
   "source": [
    "sentense"
   ]
  },
  {
   "cell_type": "code",
   "execution_count": 61,
   "metadata": {},
   "outputs": [
    {
     "data": {
      "text/plain": [
       "'я иду по красивой улице'"
      ]
     },
     "execution_count": 61,
     "metadata": {},
     "output_type": "execute_result"
    }
   ],
   "source": [
    "sentense.lower()"
   ]
  },
  {
   "cell_type": "code",
   "execution_count": 62,
   "metadata": {},
   "outputs": [
    {
     "data": {
      "text/plain": [
       "'Я ИДУ ПО КРАСИВОЙ УЛИЦЕ'"
      ]
     },
     "execution_count": 62,
     "metadata": {},
     "output_type": "execute_result"
    }
   ],
   "source": [
    "sentense.upper()"
   ]
  },
  {
   "cell_type": "code",
   "execution_count": 64,
   "metadata": {},
   "outputs": [
    {
     "data": {
      "text/plain": [
       "True"
      ]
     },
     "execution_count": 64,
     "metadata": {},
     "output_type": "execute_result"
    }
   ],
   "source": [
    "\"Иван Иванов Иванович\".lower() == \"Иван иванов ивановиЧ\".lower()"
   ]
  },
  {
   "cell_type": "code",
   "execution_count": 68,
   "metadata": {},
   "outputs": [
    {
     "data": {
      "text/plain": [
       "['Я', 'иду', 'по', 'красивой', 'улице']"
      ]
     },
     "execution_count": 68,
     "metadata": {},
     "output_type": "execute_result"
    }
   ],
   "source": [
    "sentense.split(\" \")"
   ]
  },
  {
   "cell_type": "code",
   "execution_count": 71,
   "metadata": {},
   "outputs": [
    {
     "data": {
      "text/plain": [
       "'Водка,Гречка,Позитив'"
      ]
     },
     "execution_count": 71,
     "metadata": {},
     "output_type": "execute_result"
    }
   ],
   "source": [
    "array = [\"Водка\", \"Гречка\", \"Позитив\"]\n",
    "\n",
    "\n",
    "\",\".join(array)"
   ]
  },
  {
   "cell_type": "code",
   "execution_count": 72,
   "metadata": {},
   "outputs": [
    {
     "data": {
      "text/plain": [
       "'Я иду по красивой улице'"
      ]
     },
     "execution_count": 72,
     "metadata": {},
     "output_type": "execute_result"
    }
   ],
   "source": [
    "sentense"
   ]
  },
  {
   "cell_type": "code",
   "execution_count": 73,
   "metadata": {},
   "outputs": [
    {
     "data": {
      "text/plain": [
       "'Я *ду по крас*вой ул*це'"
      ]
     },
     "execution_count": 73,
     "metadata": {},
     "output_type": "execute_result"
    }
   ],
   "source": [
    "sentense.replace(\"и\", \"*\")"
   ]
  },
  {
   "cell_type": "markdown",
   "metadata": {},
   "source": [
    "Второе занятие:"
   ]
  },
  {
   "cell_type": "markdown",
   "metadata": {},
   "source": [
    "### Функции и методы списков\n",
    "\n",
    "Для работы со списками в Python доступны различные встроенные функции и методы.\n",
    "\n",
    "#### Методы списков\n",
    "\n",
    "| Метод | Описание |\n",
    "|-------|----------|\n",
    "| `list.append(x)` | Добавляет элемент в конец списка |\n",
    "| `list.extend(L)` | Расширяет список, добавляя в конец все элементы списка L |\n",
    "| `list.insert(i, x)` | Вставляет на i-ый элемент значение x |\n",
    "| `list.remove(x)` | Удаляет первый элемент в списке, имеющий значение x |\n",
    "| `list.pop([i])` | Удаляет i-ый элемент и возвращает его |\n",
    "| `list.index(x, [start[, end]])` | Возвращает положение первого элемента со значением x |\n",
    "| `list.count(x)` | Возвращает количество элементов со значением x |\n",
    "| `list.sort([key=функция])` | Сортирует список |\n",
    "| `list.reverse()` | Разворачивает список |\n",
    "| `list.copy()` | Создает поверхностную копию списка |\n",
    "| `list.clear()` | Очищает список |\n",
    "\n",
    "Важно помнить, что методы списков изменяют сам список.\n"
   ]
  },
  {
   "cell_type": "code",
   "execution_count": 1,
   "metadata": {},
   "outputs": [
    {
     "name": "stdout",
     "output_type": "stream",
     "text": [
      "2 1 0\n"
     ]
    }
   ],
   "source": [
    "a = [66.25, 333, 333, 1, 1234.5]\n",
    "print(a.count(333), a.count(66.25), a.count('x'))  # 2 1 0"
   ]
  },
  {
   "cell_type": "code",
   "execution_count": 2,
   "metadata": {},
   "outputs": [
    {
     "name": "stdout",
     "output_type": "stream",
     "text": [
      "[66.25, 333, -1, 333, 1, 1234.5, 333]\n"
     ]
    }
   ],
   "source": [
    "a.insert(2, -1)\n",
    "a.append(333)\n",
    "print(a)  # [66.25, 333, -1, 333, 1, 1234.5, 333]"
   ]
  },
  {
   "cell_type": "code",
   "execution_count": 3,
   "metadata": {},
   "outputs": [
    {
     "name": "stdout",
     "output_type": "stream",
     "text": [
      "3 1 0\n"
     ]
    }
   ],
   "source": [
    "print(a.count(333), a.count(66.25), a.count('x'))  # 2 1 0"
   ]
  },
  {
   "cell_type": "code",
   "execution_count": 4,
   "metadata": {},
   "outputs": [
    {
     "name": "stdout",
     "output_type": "stream",
     "text": [
      "1\n"
     ]
    }
   ],
   "source": [
    "print(a.index(333))  # 1"
   ]
  },
  {
   "cell_type": "code",
   "execution_count": 7,
   "metadata": {},
   "outputs": [
    {
     "name": "stdout",
     "output_type": "stream",
     "text": [
      "[66.25, -1, 1, 1234.5]\n"
     ]
    }
   ],
   "source": [
    "a.remove(333)\n",
    "print(a)  # [66.25, -1, 333, 1, 1234.5, 333]"
   ]
  },
  {
   "cell_type": "code",
   "execution_count": 8,
   "metadata": {},
   "outputs": [
    {
     "name": "stdout",
     "output_type": "stream",
     "text": [
      "[1234.5, 1, -1, 66.25]\n"
     ]
    }
   ],
   "source": [
    "a.reverse()\n",
    "print(a)  # [333, 1234.5, 1, 333, -1, 66.25]\n"
   ]
  },
  {
   "cell_type": "code",
   "execution_count": 9,
   "metadata": {},
   "outputs": [
    {
     "name": "stdout",
     "output_type": "stream",
     "text": [
      "[-1, 1, 66.25, 1234.5]\n"
     ]
    }
   ],
   "source": [
    "a.sort()\n",
    "print(a)  # [-1, 1, 66.25, 333, 333, 1234.5]"
   ]
  },
  {
   "cell_type": "markdown",
   "metadata": {},
   "source": [
    "Пример 1: Создание расписания занятий\n",
    "Представьте, что вам нужно создать расписание занятий на неделю. Вы можете использовать списки для хранения информации о каждом дне.\n",
    "\n"
   ]
  },
  {
   "cell_type": "code",
   "execution_count": 11,
   "metadata": {},
   "outputs": [
    {
     "name": "stdout",
     "output_type": "stream",
     "text": [
      "Понедельник: Математика, Физика, История\n",
      "Вторник: Литература, Биология, География\n",
      "Среда: Химия, Математика, Физкультура\n",
      "Четверг: Физика, Иностранный язык, Информатика\n",
      "Пятница: История, Математика, Физика\n"
     ]
    }
   ],
   "source": [
    "# Создаем расписание на неделю\n",
    "schedule = [\n",
    "    ['Понедельник', ['Математика', 'Физика', 'История']],\n",
    "    ['Вторник', ['Литература', 'Биология', 'География']],\n",
    "    ['Среда', ['Химия', 'Математика', 'Физкультура']],\n",
    "    ['Четверг', ['Физика', 'Иностранный язык', 'Информатика']],\n",
    "    ['Пятница', ['История', 'Математика', 'Физика']]\n",
    "]\n",
    "\n",
    "# Выводим расписание на каждый день\n",
    "for day in schedule:\n",
    "    print(f'{day[0]}: {\", \".join(day[1])}')"
   ]
  },
  {
   "cell_type": "markdown",
   "metadata": {},
   "source": [
    "Пример 2: Анализ оценок учеников\n",
    "Допустим, у вас есть список оценок учеников, и вы хотите вычислить среднюю оценку и определить учеников с наивысшими и низшими оценками."
   ]
  },
  {
   "cell_type": "code",
   "execution_count": 12,
   "metadata": {},
   "outputs": [
    {
     "name": "stdout",
     "output_type": "stream",
     "text": [
      "Средняя оценка: 86.70\n",
      "Наивысшая оценка: 95\n",
      "Низшая оценка: 76\n"
     ]
    }
   ],
   "source": [
    "grades = [85, 90, 78, 92, 88, 76, 95, 89, 83, 91]\n",
    "\n",
    "# Вычисляем среднюю оценку\n",
    "average_grade = sum(grades) / len(grades)\n",
    "print(f'Средняя оценка: {average_grade:.2f}')\n",
    "\n",
    "# Находим наивысшую и низшую оценки\n",
    "highest_grade = max(grades)\n",
    "lowest_grade = min(grades)\n",
    "print(f'Наивысшая оценка: {highest_grade}')\n",
    "print(f'Низшая оценка: {lowest_grade}')\n"
   ]
  },
  {
   "cell_type": "markdown",
   "metadata": {},
   "source": [
    "Кортежи (tuples) в Python — это неизменяемые последовательности элементов. \n",
    "По сути, кортежи — это неизменяемые списки."
   ]
  },
  {
   "cell_type": "code",
   "execution_count": 13,
   "metadata": {},
   "outputs": [
    {
     "name": "stdout",
     "output_type": "stream",
     "text": [
      "72\n",
      "88\n"
     ]
    }
   ],
   "source": [
    "a = (1, 2, 3, 4, 5, 6)\n",
    "b = [1, 2, 3, 4, 5, 6]\n",
    "print(a.__sizeof__())  # 36\n",
    "print(b.__sizeof__())  # 44"
   ]
  },
  {
   "cell_type": "code",
   "execution_count": 14,
   "metadata": {},
   "outputs": [
    {
     "name": "stdout",
     "output_type": "stream",
     "text": [
      "()\n",
      "()\n"
     ]
    }
   ],
   "source": [
    "a = tuple()\n",
    "print(a)  # ()\n",
    "\n",
    "a = ()\n",
    "print(a)  # ()"
   ]
  },
  {
   "cell_type": "code",
   "execution_count": 15,
   "metadata": {},
   "outputs": [
    {
     "name": "stdout",
     "output_type": "stream",
     "text": [
      "s\n",
      "('s',)\n",
      "('s',)\n"
     ]
    }
   ],
   "source": [
    "a = ('s')\n",
    "print(a)  # 's'\n",
    "\n",
    "a = ('s',)\n",
    "print(a)  # ('s',)\n",
    "\n",
    "a = 's',\n",
    "print(a)  # ('s',)\n"
   ]
  },
  {
   "cell_type": "code",
   "execution_count": 16,
   "metadata": {},
   "outputs": [
    {
     "name": "stdout",
     "output_type": "stream",
     "text": [
      "('h', 'e', 'l', 'l', 'o', ',', ' ', 'w', 'o', 'r', 'l', 'd', '!')\n"
     ]
    }
   ],
   "source": [
    "a = tuple('hello, world!')\n",
    "print(a)  # ('h', 'e', 'l', 'l', 'o', ',', ' ', 'w', 'o', 'r', 'l', 'd', '!')"
   ]
  },
  {
   "cell_type": "code",
   "execution_count": 17,
   "metadata": {},
   "outputs": [
    {
     "name": "stdout",
     "output_type": "stream",
     "text": [
      "(1, 2, 3, 4, 5, 6)\n",
      "(1, 2, 3, 1, 2, 3)\n"
     ]
    }
   ],
   "source": [
    "a = (1, 2, 3)\n",
    "b = (4, 5, 6)\n",
    "c = a + b\n",
    "print(c)  # (1, 2, 3, 4, 5, 6)\n",
    "\n",
    "d = a * 2\n",
    "print(d)  # (1, 2, 3, 1, 2, 3)\n"
   ]
  },
  {
   "cell_type": "code",
   "execution_count": 18,
   "metadata": {},
   "outputs": [
    {
     "name": "stdout",
     "output_type": "stream",
     "text": [
      "1\n",
      "2\n"
     ]
    }
   ],
   "source": [
    "a = (1, 2, 3, 2, 4)\n",
    "print(a.index(2))  # 1\n",
    "print(a.count(2))  # 2"
   ]
  },
  {
   "cell_type": "markdown",
   "metadata": {},
   "source": [
    "Пример 1: Координаты точки\n",
    "Кортежи часто используются для хранения координат точек на плоскости или в пространстве."
   ]
  },
  {
   "cell_type": "code",
   "execution_count": 20,
   "metadata": {},
   "outputs": [],
   "source": [
    "point = (10, 20)\n",
    "points = [(10, 20), (10, 20), (10, 20),(10, 20)]"
   ]
  },
  {
   "cell_type": "code",
   "execution_count": 21,
   "metadata": {},
   "outputs": [],
   "source": [
    "date = (2024, 8, 3)"
   ]
  },
  {
   "cell_type": "markdown",
   "metadata": {},
   "source": [
    "# Что такое словари?\n",
    "Словари в Python — это неупорядоченные коллекции произвольных объектов с доступом по ключу. Их также называют ассоциативными массивами или хеш-таблицами."
   ]
  },
  {
   "cell_type": "code",
   "execution_count": 22,
   "metadata": {},
   "outputs": [
    {
     "name": "stdout",
     "output_type": "stream",
     "text": [
      "{}\n",
      "{'dict': 1, 'dictionary': 2}\n"
     ]
    }
   ],
   "source": [
    "d = {}\n",
    "print(d)  # {}\n",
    "\n",
    "d = {'dict': 1, 'dictionary': 2}\n",
    "print(d)  # {'dict': 1, 'dictionary': 2}"
   ]
  },
  {
   "cell_type": "code",
   "execution_count": 23,
   "metadata": {},
   "outputs": [
    {
     "name": "stdout",
     "output_type": "stream",
     "text": [
      "2\n"
     ]
    }
   ],
   "source": [
    "d = {1: 2, 2: 4, 3: 9}\n",
    "print(d[1])  # 2"
   ]
  },
  {
   "cell_type": "code",
   "execution_count": 24,
   "metadata": {},
   "outputs": [
    {
     "name": "stdout",
     "output_type": "stream",
     "text": [
      "{1: 2, 2: 4, 3: 9, 4: 16}\n"
     ]
    }
   ],
   "source": [
    "d[4] = 4 ** 2\n",
    "print(d)  # {1: 2, 2: 4, 3: 9, 4: 16}"
   ]
  },
  {
   "cell_type": "code",
   "execution_count": 26,
   "metadata": {},
   "outputs": [
    {
     "data": {
      "text/plain": [
       "4"
      ]
     },
     "execution_count": 26,
     "metadata": {},
     "output_type": "execute_result"
    }
   ],
   "source": [
    "d2 = {2: 2, 2: 4, 3: 9}\n",
    "d2[2]"
   ]
  },
  {
   "cell_type": "markdown",
   "metadata": {},
   "source": [
    "### Методы словарей\n",
    "\n",
    "| Метод | Описание |\n",
    "|-------|----------|\n",
    "| `dict.clear()` | Очищает словарь |\n",
    "| `dict.copy()` | Возвращает копию словаря |\n",
    "| `classmethod dict.fromkeys(seq[, value])` | Создает словарь с ключами из `seq` и значением `value` (по умолчанию `None`) |\n",
    "| `dict.get(key[, default])` | Возвращает значение ключа, если ключ отсутствует, возвращает `default` (по умолчанию `None`) |\n",
    "| `dict.items()` | Возвращает пары `(ключ, значение)` |\n",
    "| `dict.keys()` | Возвращает ключи словаря |\n",
    "| `dict.pop(key[, default])` | Удаляет ключ и возвращает значение. Если ключа нет, возвращает `default` (по умолчанию вызывает исключение) |\n",
    "| `dict.popitem()` | Удаляет и возвращает пару `(ключ, значение)`. Если словарь пуст, вызывает исключение `KeyError` |\n",
    "| `dict.setdefault(key[, default])` | Возвращает значение ключа, если ключ отсутствует, создаёт ключ со значением `default` (по умолчанию `None`) |\n",
    "| `dict.update([other])` | Обновляет словарь, добавляя пары `(ключ, значение)` из `other` |\n",
    "| `dict.values()` | Возвращает значения словаря |"
   ]
  },
  {
   "cell_type": "code",
   "execution_count": 27,
   "metadata": {},
   "outputs": [],
   "source": [
    "# Создание словаря\n",
    "d = {'a': 1, 'b': 2, 'c': 3}"
   ]
  },
  {
   "cell_type": "code",
   "execution_count": 28,
   "metadata": {},
   "outputs": [
    {
     "name": "stdout",
     "output_type": "stream",
     "text": [
      "{'a': 1, 'b': 2, 'c': 3}\n"
     ]
    }
   ],
   "source": [
    "# Копирование словаря\n",
    "d_copy = d.copy()\n",
    "print(d_copy)  # {'a': 1, 'b': 2, 'c': 3}"
   ]
  },
  {
   "cell_type": "code",
   "execution_count": 29,
   "metadata": {},
   "outputs": [
    {
     "name": "stdout",
     "output_type": "stream",
     "text": [
      "1\n",
      "Not found\n"
     ]
    }
   ],
   "source": [
    "# Получение значения по ключу\n",
    "print(d.get('a'))  # 1\n",
    "print(d.get('z', 'Not found'))  # Not found"
   ]
  },
  {
   "cell_type": "code",
   "execution_count": 30,
   "metadata": {},
   "outputs": [
    {
     "name": "stdout",
     "output_type": "stream",
     "text": [
      "dict_keys(['a', 'b', 'c'])\n",
      "dict_values([1, 2, 3])\n"
     ]
    }
   ],
   "source": [
    "# Получение ключей и значений\n",
    "print(d.keys())  # dict_keys(['a', 'b', 'c'])\n",
    "print(d.values())  # dict_values([1, 2, 3])"
   ]
  },
  {
   "cell_type": "code",
   "execution_count": 31,
   "metadata": {},
   "outputs": [
    {
     "name": "stdout",
     "output_type": "stream",
     "text": [
      "2\n",
      "{'a': 1, 'c': 3}\n",
      "('c', 3)\n",
      "{'a': 1}\n"
     ]
    }
   ],
   "source": [
    "# Удаление элемента\n",
    "print(d.pop('b'))  # 2\n",
    "print(d)  # {'a': 1, 'c': 3}\n",
    "\n",
    "# Удаление и возврат последней пары\n",
    "print(d.popitem())  # ('c', 3)\n",
    "print(d)  # {'a': 1}"
   ]
  },
  {
   "cell_type": "code",
   "execution_count": 32,
   "metadata": {},
   "outputs": [
    {
     "name": "stdout",
     "output_type": "stream",
     "text": [
      "4\n",
      "{'a': 1, 'd': 4}\n",
      "{'a': 1, 'd': 4, 'e': 5}\n",
      "{}\n"
     ]
    }
   ],
   "source": [
    "# Установка значения по умолчанию\n",
    "print(d.setdefault('d', 4))  # 4\n",
    "print(d)  # {'a': 1, 'd': 4}\n",
    "\n",
    "# Обновление словаря\n",
    "d.update({'e': 5})\n",
    "print(d)  # {'a': 1, 'd': 4, 'e': 5}\n",
    "\n",
    "# Очистка словаря\n",
    "d.clear()\n",
    "print(d)  # {}\n"
   ]
  },
  {
   "cell_type": "markdown",
   "metadata": {},
   "source": [
    "Пример 1: Частота символов в строке\n",
    "Напишите программу, которая подсчитывает частоту каждого символа в строке"
   ]
  },
  {
   "cell_type": "code",
   "execution_count": 33,
   "metadata": {},
   "outputs": [
    {
     "name": "stdout",
     "output_type": "stream",
     "text": [
      "{'h': 1, 'e': 1, 'l': 3, 'o': 2, ' ': 1, 'w': 1, 'r': 1, 'd': 1}\n"
     ]
    }
   ],
   "source": [
    "text = \"hello world\"\n",
    "frequency = {char: text.count(char) for char in text}\n",
    "print(frequency)\n",
    "# {'h': 1, 'e': 1, 'l': 3, 'o': 2, ' ': 1, 'w': 1, 'r': 1, 'd': 1}\n"
   ]
  },
  {
   "cell_type": "markdown",
   "metadata": {},
   "source": [
    "Пример 2: Словарь с оценками студентов\n",
    "Напишите программу, которая создает словарь с оценками студентов и выводит среднюю оценку."
   ]
  },
  {
   "cell_type": "code",
   "execution_count": 34,
   "metadata": {},
   "outputs": [
    {
     "name": "stdout",
     "output_type": "stream",
     "text": [
      "{'Alice': 87.66666666666667, 'Bob': 77.66666666666667, 'Charlie': 92.0}\n"
     ]
    }
   ],
   "source": [
    "grades = {\n",
    "    'Alice': [85, 90, 88],\n",
    "    'Bob': [78, 81, 74],\n",
    "    'Charlie': [92, 95, 89]\n",
    "}\n",
    "\n",
    "average_grades = {student: sum(scores) / len(scores) for student, scores in grades.items()}\n",
    "print(average_grades)\n",
    "# {'Alice': 87.66666666666667, 'Bob': 77.66666666666667, 'Charlie': 92.0}\n"
   ]
  },
  {
   "cell_type": "markdown",
   "metadata": {},
   "source": [
    "## Задача 1: Подсчет гласных и согласных\n",
    "Напишите программу, которая подсчитывает количество гласных и согласных букв в строке.\n",
    "\n"
   ]
  },
  {
   "cell_type": "code",
   "execution_count": 41,
   "metadata": {},
   "outputs": [
    {
     "name": "stdout",
     "output_type": "stream",
     "text": [
      "{'гласные': 4, 'согласные': 7}\n"
     ]
    }
   ],
   "source": [
    "text = \"A Hello World\"\n",
    "vowels = \"aeiouy\"\n",
    "\n",
    "countletters = {\"гласные\": 0, \"согласные\": 0}\n",
    "\n",
    "text = text.lower()\n",
    "\n",
    "for char in text:\n",
    "    if char.isalpha():\n",
    "        if char in vowels:\n",
    "            countletters[\"гласные\"] = countletters[\"гласные\"] + 1\n",
    "        else:\n",
    "            countletters[\"согласные\"] = countletters[\"согласные\"] + 1\n",
    "\n",
    "print(countletters)\n"
   ]
  },
  {
   "cell_type": "markdown",
   "metadata": {},
   "source": [
    "## Задача: Система учёта книг в библиотеке\n",
    "Представьте, что вы разрабатываете систему учёта книг для небольшой библиотеки. Ваша задача — создать программу, которая будет вести учёт книг, позволяя добавлять новые книги, удалять книги, искать книги по автору и названию, а также показывать статистику по количеству книг каждого жанра.\n",
    "\n",
    "### Требования\n",
    "Добавление книги: Пользователь должен иметь возможность добавить новую книгу в систему. Каждая книга имеет следующие характеристики:\n",
    "\n",
    "- Название\n",
    "- Автор\n",
    "- Год издания\n",
    "- Жанр\n",
    "- Удаление книги: Пользователь должен иметь возможность удалить книгу по названию.\n",
    "\n",
    "- Поиск книги: Пользователь должен иметь возможность искать книги по автору или названию.\n",
    "\n",
    "- Статистика по жанрам: Программа должна уметь выводить количество книг в каждом жанре."
   ]
  },
  {
   "cell_type": "code",
   "execution_count": 42,
   "metadata": {},
   "outputs": [
    {
     "name": "stdout",
     "output_type": "stream",
     "text": [
      "Здравствуйте! Вас приветствует библиотека. Ниже указаны пункты меню: \n",
      "1. Добавить книгу\n",
      "2. Удалить книгу\n",
      "3. Показать список книг\n",
      "4. Найти книгу\n",
      "5. Статистика по жанрам\n",
      "6. Выход\n"
     ]
    }
   ],
   "source": [
    "print(\"Здравствуйте! Вас приветствует библиотека. Ниже указаны пункты меню: \")\n",
    "print(\"1. Добавить книгу\")\n",
    "print(\"2. Удалить книгу\")\n",
    "print(\"3. Показать список книг\")\n",
    "print(\"4. Найти книгу\")\n",
    "print(\"5. Статистика по жанрам\")\n",
    "\n",
    "print(\"6. Выход\")\n",
    "\n",
    "library  = {}\n",
    "\n",
    "while True:\n",
    "    choice = int(input(\"Выберите действие: \"))\n",
    "\n",
    "    if choice == 1:\n",
    "        book_title = input(\"Напишите название книги, которую вы хотите добавить в библиотеку: \")\n",
    "        book_author = input(\"Напишите её автора: \")\n",
    "        book_year = input(\"Напишите её год: \")\n",
    "        book_genre = input(\"Напишите её жанр: \")\n",
    "\n",
    "        if book_title in library:\n",
    "            print(\"Такая книга уже есть в библиотеке\")\n",
    "        else:\n",
    "            library[book_title] = {\"автор\": book_author, \"год\": book_year, \"жанр\": book_genre}\n",
    "\n",
    "    \n",
    "    # if choice == 2:\n",
    "        # item = input(\"Напишите, какой товар вы хотите удалить из списка: \")\n",
    "\n",
    "        # if item in shop_list:\n",
    "        #     shop_list.remove(item)\n",
    "        #     print(\"Товар успешно удалён\")\n",
    "        # else:\n",
    "        #     print(\"Указанного товара нет в списке\")\n",
    "        \n",
    "\n",
    "    if choice == 3:\n",
    "        print(\"Вот список книг: \")\n",
    "        for item in library:\n",
    "            print(item)\n",
    "\n",
    "    if choice == 6:\n",
    "        break"
   ]
  }
 ],
 "metadata": {
  "kernelspec": {
   "display_name": "Python 3",
   "language": "python",
   "name": "python3"
  },
  "language_info": {
   "codemirror_mode": {
    "name": "ipython",
    "version": 3
   },
   "file_extension": ".py",
   "mimetype": "text/x-python",
   "name": "python",
   "nbconvert_exporter": "python",
   "pygments_lexer": "ipython3",
   "version": "3.10.6"
  }
 },
 "nbformat": 4,
 "nbformat_minor": 2
}
